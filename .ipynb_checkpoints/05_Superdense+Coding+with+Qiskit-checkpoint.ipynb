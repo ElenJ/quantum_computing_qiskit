{
 "cells": [
  {
   "cell_type": "markdown",
   "metadata": {},
   "source": [
    "# Superdense Coding with Qiskit"
   ]
  },
  {
   "cell_type": "markdown",
   "metadata": {},
   "source": [
    "## Importing necessary libraries "
   ]
  },
  {
   "cell_type": "code",
   "execution_count": 1,
   "metadata": {},
   "outputs": [],
   "source": [
    "from qiskit import QuantumCircuit, transpile\n",
    "from qiskit_aer import Aer\n",
    "from qiskit.visualization import plot_histogram"
   ]
  },
  {
   "cell_type": "markdown",
   "metadata": {},
   "source": [
    "## Functions for Superdense Coding Protocol"
   ]
  },
  {
   "cell_type": "code",
   "execution_count": 2,
   "metadata": {},
   "outputs": [],
   "source": [
    "# Define a function that takes a QuantumCircuit (qc) \n",
    "# and two integers (a & b)\n",
    "def create_bell_pair(qc, a, b):\n",
    "    qc.h(a) # Apply a h-gate to the first qubit\n",
    "    qc.cx(a,b) # Apply a CNOT, using the first qubit as the control"
   ]
  },
  {
   "cell_type": "code",
   "execution_count": 3,
   "metadata": {},
   "outputs": [],
   "source": [
    "# Define a function that takes a QuantumCircuit (qc)\n",
    "# a qubit index (qubit) and a message string (msg)\n",
    "def encode_message(qc, qubit, msg):\n",
    "    if msg == \"00\":\n",
    "        pass    # To send 00 we do nothing\n",
    "    elif msg == \"10\":\n",
    "        qc.x(qubit) # To send 10 we apply an X-gate\n",
    "    elif msg == \"01\":\n",
    "        qc.z(qubit) # To send 01 we apply a Z-gate\n",
    "    elif msg == \"11\":\n",
    "        qc.z(qubit) # To send 11, we apply a Z-gate\n",
    "        qc.x(qubit) # followed by an X-gate\n",
    "    else:\n",
    "        print(\"Invalid Message: Sending '00'\")"
   ]
  },
  {
   "cell_type": "code",
   "execution_count": 4,
   "metadata": {},
   "outputs": [],
   "source": [
    "def decode_message(qc, a, b):\n",
    "    qc.cx(a,b)\n",
    "    qc.h(a)"
   ]
  },
  {
   "cell_type": "markdown",
   "metadata": {},
   "source": [
    "## Drawing the Superdense Coding Circuit"
   ]
  },
  {
   "cell_type": "code",
   "execution_count": 5,
   "metadata": {},
   "outputs": [
    {
     "data": {
      "image/png": "[encoded data removed]",
      "text/plain": [
       "<Figure size 998.442x284.278 with 1 Axes>"
      ]
     },
     "execution_count": 5,
     "metadata": {},
     "output_type": "execute_result"
    }
   ],
   "source": [
    "# Create the quantum circuit with 2 qubits\n",
    "qc = QuantumCircuit(2)\n",
    "\n",
    "\n",
    "# First, Charlie creates the entangled pair between Alice and Bob\n",
    "create_bell_pair(qc, 0, 1)\n",
    "qc.barrier() # This adds a barrier to our circuit. A barrier \n",
    "             # separates the gates in our diagram and makes it \n",
    "             # clear which part of the circuit is which\n",
    "\n",
    "# At this point, qubit 0 goes to Alice and qubit 1 goes to Bob\n",
    "\n",
    "# Next, Alice encodes her message onto qubit 0. In this case,\n",
    "# we want to send the message '10'. You can try changing this\n",
    "# value and see how it affects the circuit\n",
    "message = \"01\"\n",
    "encode_message(qc, 0, message)\n",
    "qc.barrier()\n",
    "# Alice then sends her qubit to Bob.\n",
    "\n",
    "# After recieving qubit 0, Bob applies the recovery protocol:\n",
    "decode_message(qc, 0, 1)\n",
    "\n",
    "# Finally, Bob measures his qubits to read Alice's message\n",
    "qc.measure_all()\n",
    "\n",
    "# Draw our output\n",
    "qc.draw('mpl')"
   ]
  },
  {
   "cell_type": "markdown",
   "metadata": {},
   "source": [
    "## Executing the Superdense Coding Circuit "
   ]
  },
  {
   "cell_type": "code",
   "execution_count": 6,
   "metadata": {},
   "outputs": [
    {
     "name": "stdout",
     "output_type": "stream",
     "text": [
      "\n",
      " Total Counts are: {'10': 1000}\n"
     ]
    },
    {
     "data": {
      "image/png": "[encoded data removed]",
      "text/plain": [
       "<Figure size 504x360 with 1 Axes>"
      ]
     },
     "execution_count": 6,
     "metadata": {},
     "output_type": "execute_result"
    }
   ],
   "source": [
    "# Use Aer's qasm_simulator\n",
    "backend = Aer.get_backend('qasm_simulator')\n",
    "\n",
    "# Execute the circuit on the qasm simulator\n",
    "job = execute(qc, backend, shots=1000)\n",
    "\n",
    "# Execute the circuit\n",
    "job = transpile(qc, backend)\n",
    "qc_output = backend.run(job) # runs the quantum circuit\n",
    "\n",
    "counts = qc_output.result().get_statevector(qc, decimals=3) # get result from the circuit\n",
    "\n",
    "\n",
    "# Grab results from the job\n",
    "result = job.result()\n",
    "\n",
    "# Returns counts\n",
    "counts = result.get_counts(qc)\n",
    "print(\"\\nTotal counts are:\",counts)\n",
    "\n",
    "# Plot a histogram\n",
    "plot_histogram(counts)"
   ]
  },
  {
   "cell_type": "code",
   "execution_count": null,
   "metadata": {},
   "outputs": [],
   "source": []
  }
 ],
 "metadata": {
  "kernelspec": {
   "display_name": "Python (quantum)",
   "language": "python",
   "name": "quantum"
  },
  "language_info": {
   "codemirror_mode": {
    "name": "ipython",
    "version": 3
   },
   "file_extension": ".py",
   "mimetype": "text/x-python",
   "name": "python",
   "nbconvert_exporter": "python",
   "pygments_lexer": "ipython3",
   "version": "3.12.3"
  },
  "varInspector": {
   "cols": {
    "lenName": 16,
    "lenType": 16,
    "lenVar": 40
   },
   "kernels_config": {
    "python": {
     "delete_cmd_postfix": "",
     "delete_cmd_prefix": "del ",
     "library": "var_list.py",
     "varRefreshCmd": "print(var_dic_list())"
    },
    "r": {
     "delete_cmd_postfix": ") ",
     "delete_cmd_prefix": "rm(",
     "library": "var_list.r",
     "varRefreshCmd": "cat(var_dic_list()) "
    }
   },
   "types_to_exclude": [
    "module",
    "function",
    "builtin_function_or_method",
    "instance",
    "_Feature"
   ],
   "window_display": true
  }
 },
 "nbformat": 4,
 "nbformat_minor": 5
}
